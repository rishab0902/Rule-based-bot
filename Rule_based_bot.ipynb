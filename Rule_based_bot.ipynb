{
  "nbformat": 4,
  "nbformat_minor": 0,
  "metadata": {
    "colab": {
      "provenance": [],
      "authorship_tag": "ABX9TyMhQvTOE0QSrlMQ2wMN/aDQ",
      "include_colab_link": true
    },
    "kernelspec": {
      "name": "python3",
      "display_name": "Python 3"
    },
    "language_info": {
      "name": "python"
    }
  },
  "cells": [
    {
      "cell_type": "markdown",
      "metadata": {
        "id": "view-in-github",
        "colab_type": "text"
      },
      "source": [
        "<a href=\"https://colab.research.google.com/github/rishab0902/Rule-based-bot/blob/master/Rule_based_bot.ipynb\" target=\"_parent\"><img src=\"https://colab.research.google.com/assets/colab-badge.svg\" alt=\"Open In Colab\"/></a>"
      ]
    },
    {
      "cell_type": "code",
      "execution_count": 3,
      "metadata": {
        "id": "DGqdjeI8GS-j"
      },
      "outputs": [],
      "source": [
        "#re allows to perform string based operations manipulation concatination searching split\n",
        "\n",
        "\n",
        "import re\n",
        "import random"
      ]
    },
    {
      "cell_type": "code",
      "source": [
        "\n",
        "\n",
        "class RuleBot:\n",
        "  ### potwntial negative reponses\n",
        "    negative_responses = (\"no\", \"nope\", \"nah\", \"naw\", \"not a chance\", \"sorry\")\n",
        "  ### exit conversations keywords\n",
        "    exit_commands = (\"quit\", \"pause\", \"exit\", \"goodbye\", \"bye\", \"later\")\n",
        "  ### Random starter question\n",
        "\n",
        "  ### imagine it as alien that arrived on earth\n",
        "    random_questions = (\n",
        "        \"Why are you here?\",\n",
        "        \"Are there many humans like you?\",\n",
        "        \"What do you consume for sustenance?\",\n",
        "        \"Is there intelligent life on this planet?\",\n",
        "        \"Does Earth have a leader?\",\n",
        "        \"What planets have you visited?\",\n",
        "        \"What technology do you have on this planet?\"\n",
        "    )\n",
        "\n",
        "    def __init__(self):\n",
        "        self.alienbabble = {\n",
        "            'describe_planet_intent': r'.*\\s*your planet.*',\n",
        "            'answer_why_intent': r'why\\sare.*',\n",
        "            'about_intellipaat': r'.*\\s*intellipaat',\n",
        "            'about_session': r'.*\\s*session'\n",
        "        }\n",
        "\n",
        "    def greet(self):\n",
        "        self.name = input(\"What is your name?\\n\")\n",
        "        will_help = input(f\"Hi {self.name}, I am Rule-Bot. Will you help me learn about your planet?\\n\")\n",
        "        if will_help.lower() in self.negative_responses:\n",
        "            print(\"Ok, have a nice Earth day!\")\n",
        "            return\n",
        "        self.chat()\n",
        "\n",
        "    def make_exit(self, reply):\n",
        "        for command in self.exit_commands:\n",
        "            if reply == command:\n",
        "                print(\"Okay, have a nice Earth day!\")\n",
        "                return True\n",
        "        return False\n",
        "\n",
        "    def chat(self):\n",
        "        reply = input(random.choice(self.random_questions)).lower()\n",
        "        while not self.make_exit(reply):\n",
        "            reply = input(self.match_reply(reply))\n",
        "\n",
        "    def match_reply(self, reply):\n",
        "        for key, value in self.alienbabble.items():\n",
        "            intent = key\n",
        "            regex_pattern = value\n",
        "            found_match = re.match(regex_pattern, reply)\n",
        "            if found_match and intent == 'describe_planet_intent':\n",
        "                return self.describe_planet_intent()\n",
        "            elif found_match and intent == 'answer_why_intent':\n",
        "                return self.answer_why_intent()\n",
        "            elif found_match and intent == 'about_intellipaat':\n",
        "                return self.about_intellipaat()\n",
        "            elif found_match and intent == 'about_session':\n",
        "                return self.about_session()\n",
        "        if not found_match:\n",
        "            return self.no_match_intent()\n",
        "\n",
        "\n",
        "    def describe_planet_intent(self):\n",
        "        responses = (\n",
        "            \"My planet is a utopia of diverse organisms and species.\\n\",\n",
        "            \"I am from Opidipus, the capital of the Wayward Galaxies.\\n\"\n",
        "        )\n",
        "        return random.choice(responses)\n",
        "\n",
        "    def answer_why_intent(self):\n",
        "        responses = (\n",
        "            \"I come in peace\\n\",\n",
        "            \"I am here to collect data on your planet and its inhabitants\\n\",\n",
        "            \"I heard the coffee is good\\n\"\n",
        "        )\n",
        "        return random.choice(responses)\n",
        "\n",
        "    def about_intellipaat(self):\n",
        "        responses = (\n",
        "            \"Intellipaat is the world's largest professional educational company.\\n\",\n",
        "            \"Intellipaat will teach you concepts in a way you've never learned before.\\n\"\n",
        "        )\n",
        "        return random.choice(responses)\n",
        "\n",
        "    def about_session(self):\n",
        "        responses = (\n",
        "            \"Session is on 14th Aug 2022\\n\",\n",
        "            \"Session was Cool!!\\n\"\n",
        "        )\n",
        "        return random.choice(responses)\n",
        "\n",
        "    def no_match_intent(self):\n",
        "        responses = (\n",
        "            \"Please tell me more.\\n\",\n",
        "            \"Tell me more!\\n\",\n",
        "            \"Why do you say that?\\n\",\n",
        "            \"I see. Can you elaborate?\\n\",\n",
        "            \"Interesting. Can you tell me more?\\n\",\n",
        "            \"I see. How do you think?\\n\",\n",
        "            \"Why?\\n\",\n",
        "            \"How do you think I feel when you say that?\\n\"\n",
        "        )\n",
        "        return random.choice(responses)\n",
        "\n",
        "# Instantiate and start the chatbot\n",
        "AlienBot = RuleBot()\n",
        "AlienBot.greet()\n"
      ],
      "metadata": {
        "id": "WYmRmrHKGaB8"
      },
      "execution_count": null,
      "outputs": []
    },
    {
      "cell_type": "code",
      "source": [],
      "metadata": {
        "id": "zkDy05CxFgMr"
      },
      "execution_count": null,
      "outputs": []
    }
  ]
}